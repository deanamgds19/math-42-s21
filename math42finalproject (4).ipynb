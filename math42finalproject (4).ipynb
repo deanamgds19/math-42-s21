{
 "cells": [
  {
   "cell_type": "markdown",
   "metadata": {},
   "source": [
    "Types of fungi: Yeasts, molds, mushrooms\n",
    "\n",
    "Model parameters: hyphal extension rate (growth rate), density of hyphae in given volume, moisture conditions\n",
    "Higher growth rate → faster decomposition\n",
    "Denser filaments → slower decomposition\n",
    "More adapted to moisture → slower decomposition\n",
    "\n",
    "All in one state - middle of decay cycle, assume information from this is consistent to other stages"
   ]
  },
  {
   "cell_type": "markdown",
   "metadata": {},
   "source": [
    "Assumptions:\n",
    "- Assume all ground litter are twigs and bark and that their composition and densitys are identical\n",
    "- Assume that there are only 3 types of fungi; yeasts, molds and mushrooms (consider different hyphal density)\n",
    "- Assume that when there are different types of fungi present, there are equal areas of each fungus\n",
    "- Assume that environments include arid, semi-arid, temperate, arboreal, and tropical rain forests\n",
    "- Assume that the rate at which decomposition changes according to density is consistent among different types of fungi\n",
    "- Assume that no matter the combination of fungi, there will always be \n",
    "- Assume this process occurs over 182 days with time step = 1 day\n",
    "- Assume that yeasts have the highest growth rate, molds have the second highest and mushrooms grow the slowest\n",
    "- Assume that the death rate per day of mushrooms is 0.2, death rate per day of yeast is 0.1 death rate per day of mold is 0.3\n",
    "- Assume that when yeasts and molds are together, the growth rate of these fungi increases; when molds and mushrooms are together, the growth rate of these fungi decreases; when mushrooms and yeasts are together...*insert*\n",
    "- Assume that the level of moisture is on a scale from 0 to 1; 0 = arid, semi-arid = 0.25, temperate = 0.5. arboreal = 0.75, rainforest = 1\n",
    "- Assume that moisture accelerates wood decomposition\n",
    "- Assume that if a fungus is more adapted to moisture, decomposition is slowed down\n",
    "- Assume that mushrooms are well adapted to moisture, yeast is less adapted to moisture and molds are least adapted to moisture\n",
    "- Assume that if there are multiple types of fungi in the given environment, the measure of their ability to adapt to moisture is the average among the individual fungi's ability to adapt\n",
    "- Assume that if a natural disaster occurs, it only lasts one day\n",
    "- Assume that there is a 5% chance a sandstorm will happen within an arid environment; if a sandstorm occurs, it increases the growth rate of fungi by 0.02\n",
    "- Assume that there is a 10% chance of a landslide in a semi-arid environment; if a sandstorm occurs, it increases the growth rate of fungi by 0.005\n",
    "- Assume that there is a 1.5% chance a hurricane will happen within an temperate environment; if a hurricane occurs, it decreases the growth rate of fungi by 0.03\n",
    "- Assume that there is a 8% chance of a wild fire in a arboreal environment; if a wildfire occurs, it decreases the growth rate of fungi by 0.01\n",
    "- Assume that there is a 15% chance of a storm happening in a rainforest environment; if a storm occurs, it decreases the growth rate of fungi by 0.015\n",
    "\n",
    "Add additional assumptions"
   ]
  },
  {
   "cell_type": "code",
   "execution_count": 67,
   "metadata": {},
   "outputs": [],
   "source": [
    "import numpy as np\n",
    "import matplotlib.pyplot as plt\n",
    "from matplotlib.pyplot import figure"
   ]
  },
  {
   "cell_type": "code",
   "execution_count": 117,
   "metadata": {},
   "outputs": [],
   "source": [
    "def natural_disaster(env):\n",
    "    if env == \"arid\":\n",
    "        # incorporate chance of sandstorm - affect growth rate\n",
    "        if np.random.uniform(0, 1) < 0.05:\n",
    "            dist_sand = True\n",
    "            add_to_growth = 0.02\n",
    "        else:\n",
    "            add_to_growth = 0\n",
    "    elif env == \"semi-arid\":\n",
    "        # incorporate chance of landslide - affect growth rate\n",
    "        if np.random.uniform(0, 1) < 0.10:\n",
    "            dist_slide = True\n",
    "            add_to_growth = 0.005\n",
    "        else:\n",
    "            add_to_growth = 0\n",
    "    elif env == \"temperate\":\n",
    "        # incorporate chance of hurricane\n",
    "        if np.random.uniform(0, 1) < 0.12:\n",
    "            dist_hurricane = True\n",
    "            add_to_growth = -0.03\n",
    "        else:\n",
    "            add_to_growth = 0\n",
    "    elif env == \"arboreal\":\n",
    "        # incorporate chance of wild fire\n",
    "        if np.random.uniform(0, 1) < 0.08:\n",
    "            dist_wildfire = True\n",
    "            add_to_growth = -0.01\n",
    "        else:\n",
    "            add_to_growth = 0\n",
    "    elif env == \"rainforest\":\n",
    "        # incorporate chance of storm\n",
    "        if np.random.uniform(0, 1) < 0.15:\n",
    "            dist_storm = True\n",
    "            add_to_growth = -0.015\n",
    "        else:\n",
    "            add_to_growth = 0\n",
    "    \n",
    "    return add_to_growth\n",
    "            "
   ]
  },
  {
   "cell_type": "code",
   "execution_count": 118,
   "metadata": {},
   "outputs": [],
   "source": [
    "def fungi_model(vol, fType, env, filDensityYeast = 1.1, filDensityMold = 0.985, filDensityMushroom = 0.857): # volume of wood, fungi type(s), environment\n",
    "    # increase growth rate: 100 - 1.5*decomprate (just an example)\n",
    "    # denser filaments: 100 - 0.7*decomprate (just an example)\n",
    "    # more moisture: 100 - 0.5*decomprate (just an exmample)\n",
    "    \n",
    "    # set moisture level according to environment: 1 = most moist, 0 = least moist\n",
    "    if env == \"arid\":\n",
    "        moistLevel = 0\n",
    "    elif env == \"semi-arid\":\n",
    "        moistLevel = 0.25\n",
    "    elif env == \"temperate\":\n",
    "        moistLevel = 0.5\n",
    "    elif env == \"arboreal\":\n",
    "        moistLevel = 0.75\n",
    "    elif env == \"rainforest\":\n",
    "        moistLevel = 1\n",
    "    \n",
    "    # measure of how well adapted fungi is to moisture (scale from 0 to 1)\n",
    "    # higher = more adapted to moisture (slower decomp), lower = less adapted to moisture (faster decomp)\n",
    "    moistAdaptYeast = 0.8\n",
    "    moistAdaptMold = 0.5\n",
    "    moistAdaptMushroom = 0.2\n",
    "    \n",
    "    filDensityMold = (filDensityMold/5) + 1 \n",
    "    filDensityMushroom = (filDensityMushroom/5) + 1\n",
    "    filDensityYeast = (filDensityYeast/5) + 1\n",
    "    \n",
    "    # set growth, death rate and moisture level according to type(s) of fungi\n",
    "    if \"yeasts\" in fType and \"molds\" in fType and \"mushrooms\" in fType:\n",
    "        gRate = 0.5\n",
    "        dRate = 0.3\n",
    "        moist_fungi = (moistAdaptYeast + moistAdaptMold + moistAdaptMushroom)/3\n",
    "        density_level = (filDensityYeast + filDensityMold + filDensityMushroom)/3\n",
    "        \n",
    "    elif \"yeasts\" in fType and \"molds\" in fType:\n",
    "        gRate = 0.8\n",
    "        dRate = 0.4\n",
    "        moist_fungi = (moistAdaptYeast + moistAdaptMold)/2\n",
    "        density_level = (filDensityYeast + filDensityMold)/2\n",
    "        \n",
    "    elif \"molds\" in fType and \"mushrooms\" in fType:\n",
    "        gRate = 0.2\n",
    "        dRate = 0.05\n",
    "        moist_fungi = (moistAdaptMold + moistAdaptMushroom)/2\n",
    "        density_level = (filDensityMold + filDensityMushroom)/2\n",
    "        \n",
    "    elif \"yeasts\" in fType and \"mushrooms\" in fType:\n",
    "        gRate = 0.4\n",
    "        dRate = 0.3\n",
    "        moist_fungi = (moistAdaptYeast + moistAdaptMushroom)/2\n",
    "        density_level = (filDensityYeast + filDensityMushroom)/2\n",
    "        \n",
    "    elif \"yeasts\" in fType and len(fType) == 1:\n",
    "        gRate = 0.6\n",
    "        dRate = 0.1\n",
    "        moist_fungi = moistAdaptYeast\n",
    "        density_level = filDensityYeast\n",
    "        \n",
    "    elif \"molds\" in fType and len(fType) == 1:\n",
    "        gRate = 0.25\n",
    "        dRate = 0.1\n",
    "        moist_fungi = moistAdaptMold\n",
    "        density_level = filDensityMold\n",
    "        \n",
    "    elif \"mushrooms\" in fType and len(fType) == 1:\n",
    "        gRate = 0.08\n",
    "        dRate = 0.05\n",
    "        moist_fungi = moistAdaptMushroom\n",
    "        density_level = filDensityMushroom\n",
    "        \n",
    "    \n",
    "    # growth rate depends on type of fungi\n",
    "    # moisture depends on environment, how moisture affects wood decomp also depends on type of fungi (how well fungi can adapt to moisture)\n",
    "    # density of filaments depends on type of fungi\n",
    "    \n",
    "    # density of fungi filaments, denser filaments = slower decomposition\n",
    "    volume_list = []\n",
    "    vol0 = vol\n",
    "    for t in range(120):\n",
    "        \n",
    "        disaster_add = natural_disaster(env)\n",
    "        moist_factor = moistLevel - moist_fungi #add assumption for this up top, if fungi isnt adapted to moisture enough = faster decomposition\n",
    "        \n",
    "        if moist_factor <= 0: \n",
    "            moist_factor = 0\n",
    "        \n",
    "        decomprate = ((((gRate + disaster_add) - dRate)*(1+moist_factor)))/density_level\n",
    "        volN = vol0 - decomprate*vol0\n",
    "        \n",
    "        volume_list.append(volN)\n",
    "        vol0 = volN\n",
    "        \n",
    "    return volume_list\n",
    "        "
   ]
  },
  {
   "cell_type": "code",
   "execution_count": 119,
   "metadata": {},
   "outputs": [
    {
     "data": {
      "image/png": "[encoded data removed]",
      "text/plain": [
       "<Figure size 1080x360 with 4 Axes>"
      ]
     },
     "metadata": {
      "needs_background": "light"
     },
     "output_type": "display_data"
    }
   ],
   "source": [
    "fig, ax = plt.subplots(2, 2, figsize = (15, 5))\n",
    "y1 = fungi_model(500, [\"yeasts\", \"molds\", \"mushrooms\"], env = \"arid\", filDensityYeast = 5, filDensityMold = 4, filDensityMushroom = 3)\n",
    "y2 = fungi_model(500, [\"yeasts\", \"molds\", \"mushrooms\"], env = \"arid\", filDensityYeast = 3, filDensityMold = 3.5, filDensityMushroom = 2)\n",
    "y3 = fungi_model(500, [\"yeasts\", \"molds\", \"mushrooms\"], env = \"arid\", filDensityYeast = 1, filDensityMold = 2, filDensityMushroom = 2.5)\n",
    "y4 = fungi_model(500, [\"yeasts\", \"molds\", \"mushrooms\"], env = \"arid\", filDensityYeast = 0.5, filDensityMold = 1, filDensityMushroom = 0.3)\n",
    "x = np.array(range(0, 120))\n",
    "ax[0, 0].plot(x, y1)\n",
    "ax[0, 1].plot(x, y2)\n",
    "ax[1, 0].plot(x, y3)\n",
    "ax[1, 1].plot(x, y4)\n",
    "ax[0, 0].set(ylabel = \"Volume of Wood (cm^3)\", title = \"High Density of Filaments\")\n",
    "ax[0, 1].set(title = \"Medium Density of Filaments\")\n",
    "ax[1, 0].set(title = \"Lower Than Medium Density of Filaments\", xlabel = \"Time in Months\",ylabel = \"Volume of Wood (cm^3)\")\n",
    "ax[1, 1].set(xlabel = \"Time in Months\", title = \"Low Density of Filaments\")\n",
    "plt.subplots_adjust(hspace = 0.4, wspace = 0.3)\n"
   ]
  },
  {
   "cell_type": "markdown",
   "metadata": {},
   "source": [
    "### "
   ]
  },
  {
   "cell_type": "code",
   "execution_count": 93,
   "metadata": {},
   "outputs": [
    {
     "data": {
      "text/plain": [
       "120"
      ]
     },
     "execution_count": 93,
     "metadata": {},
     "output_type": "execute_result"
    }
   ],
   "source": [
    "12*10"
   ]
  },
  {
   "cell_type": "code",
   "execution_count": null,
   "metadata": {},
   "outputs": [],
   "source": []
  }
 ],
 "metadata": {
  "kernelspec": {
   "display_name": "Python 3",
   "language": "python",
   "name": "python3"
  },
  "language_info": {
   "codemirror_mode": {
    "name": "ipython",
    "version": 3
   },
   "file_extension": ".py",
   "mimetype": "text/x-python",
   "name": "python",
   "nbconvert_exporter": "python",
   "pygments_lexer": "ipython3",
   "version": "3.8.3"
  }
 },
 "nbformat": 4,
 "nbformat_minor": 4
}
